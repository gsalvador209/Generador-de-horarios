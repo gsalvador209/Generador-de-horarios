{
 "cells": [
  {
   "cell_type": "code",
   "execution_count": 93,
   "id": "9fcfa17e",
   "metadata": {},
   "outputs": [],
   "source": [
    "#!pip install selenium\n",
    "#!pip install multiprocess"
   ]
  },
  {
   "cell_type": "code",
   "execution_count": 94,
   "id": "33bc4135-28ba-454d-a559-50aa60fc4e7d",
   "metadata": {},
   "outputs": [],
   "source": [
    "import pandas as pd\n",
    "import numpy as np\n",
    "import matplotlib.pyplot as plt\n",
    "import seaborn as sbs\n",
    "from multiprocess.dummy import Pool"
   ]
  },
  {
   "cell_type": "code",
   "execution_count": 95,
   "id": "30428d8b",
   "metadata": {},
   "outputs": [
    {
     "data": {
      "text/plain": [
       "'\\nTO DO:\\n- Entrar a la página de la facultad de ingenieria y probar la clave 1413 (Introducción a la Economia) y extraer la tabla de datos\\n- Colocar los datos en un excel y guardarlo\\n- Generalizar la función para cualquier clabe\\n- Anidar los datos extraidos en un único excell\\n\\n\\nfrom selenium import webdriver\\nfrom selenium.webdriver.common.keys import Keys\\nimport time\\n\\n#Accede al navegador y a la página de la facultad\\ndriver = webdriver.Chrome()\\ndriver.get(\"https://www.ssa.ingenieria.unam.mx/horarios.html\")\\n\\ncampo_clave = driver.find_element(\"id\",\"clave\")\\nbuscar = driver.find_element(\"id\",\"buscar\")\\ncampo_clave.send_keys(\"1413\")\\nbuscar.click()\\n\\nimport re\\nimport requests\\nfrom colorama import Fore\\n\\nwebsite = \"https://www.ssa.ingenieria.unam.mx/horarios.html\"\\nresultado = requests.get(website)\\ncontent = resultado.text\\nprint(content)\\n\\ntime.sleep(5)\\n\\ndriver.close()\\n'"
      ]
     },
     "execution_count": 95,
     "metadata": {},
     "output_type": "execute_result"
    }
   ],
   "source": [
    "\"\"\"\n",
    "TO DO:\n",
    "- Entrar a la página de la facultad de ingenieria y probar la clave 1413 (Introducción a la Economia) y extraer la tabla de datos\n",
    "- Colocar los datos en un excel y guardarlo\n",
    "- Generalizar la función para cualquier clabe\n",
    "- Anidar los datos extraidos en un único excell\n",
    "\n",
    "\n",
    "from selenium import webdriver\n",
    "from selenium.webdriver.common.keys import Keys\n",
    "import time\n",
    "\n",
    "#Accede al navegador y a la página de la facultad\n",
    "driver = webdriver.Chrome()\n",
    "driver.get(\"https://www.ssa.ingenieria.unam.mx/horarios.html\")\n",
    "\n",
    "campo_clave = driver.find_element(\"id\",\"clave\")\n",
    "buscar = driver.find_element(\"id\",\"buscar\")\n",
    "campo_clave.send_keys(\"1413\")\n",
    "buscar.click()\n",
    "\n",
    "import re\n",
    "import requests\n",
    "from colorama import Fore\n",
    "\n",
    "website = \"https://www.ssa.ingenieria.unam.mx/horarios.html\"\n",
    "resultado = requests.get(website)\n",
    "content = resultado.text\n",
    "print(content)\n",
    "\n",
    "time.sleep(5)\n",
    "\n",
    "driver.close()\n",
    "\"\"\"\n"
   ]
  },
  {
   "cell_type": "code",
   "execution_count": 96,
   "id": "f37091f8-1bcf-4045-8c70-11c93f917b9a",
   "metadata": {},
   "outputs": [],
   "source": [
    "lista_horarios = list()\n",
    "df = pd.read_excel('Excel/Horario_Top.xlsx')"
   ]
  },
  {
   "cell_type": "code",
   "execution_count": 97,
   "id": "34431e19",
   "metadata": {},
   "outputs": [],
   "source": [
    "def ordenarDataFrame(df):\n",
    "    renglones_por_clv = df.groupby('Clave').size().reset_index(name = 'Opciones')\n",
    "    df_ordenado = df.merge(renglones_por_clv, on = 'Clave').sort_values(['Opciones','Clave'],ascending = False)\n",
    "    df_ordenado = df_ordenado.reset_index(drop=True)\n",
    "    return df_ordenado\n"
   ]
  },
  {
   "cell_type": "code",
   "execution_count": 98,
   "id": "e20b700b-0bdb-44e5-adf9-5eb3d89dcf40",
   "metadata": {},
   "outputs": [],
   "source": [
    "\n",
    "materias = len(df.Clave.unique())\n",
    "df = ordenarDataFrame(df)\n"
   ]
  },
  {
   "cell_type": "code",
   "execution_count": 99,
   "id": "ebef7d5d-7f23-4442-9745-b1a1fb183e8c",
   "metadata": {},
   "outputs": [],
   "source": [
    "#Verificación por horario\n",
    "def haySolapeHoras(a,b): #DataFrame, comparativa a comparativa b\n",
    "    if b.Inicio_min - a.Inicio_min == 0: #empiezan a la misma hora\n",
    "        return True\n",
    "    if b.Inicio_min - a.Inicio_min > 0: #b empieza después que a\n",
    "        if(b.Inicio_min - a.Inicio_min < a.Duracion*60):\n",
    "            return True\n",
    "    else:\n",
    "        if(abs(b.Inicio_min - a.Inicio_min) < b.Duracion*60):\n",
    "            return True \n",
    "    return False\n",
    "    "
   ]
  },
  {
   "cell_type": "code",
   "execution_count": 100,
   "id": "10537a71-d402-49e2-afe0-05dd505860e4",
   "metadata": {},
   "outputs": [],
   "source": [
    "def noHaySolape(horario_actual,materia):    \n",
    "    \"\"\"\n",
    "    Verifica si existe un solape entre un potencial horario_actual y una materia (renglón del dataframe)\n",
    "\n",
    "    Parameters\n",
    "    ----------\n",
    "        horario_actual: dataFrame\n",
    "            Es el horario_actual que se va armando\n",
    "        materia: series\n",
    "            Es la fila que contiene toda la info de la materia que se quiere meter\n",
    "    \"\"\"\n",
    "    orden = ['Lun', 'Mar', 'Mie', 'Jue', 'Vie', 'Sab']\n",
    "    for i in range(0,len(horario_actual)):\n",
    "        prod = horario_actual.iloc[i].loc[orden] * materia.loc[orden]\n",
    "\n",
    "        #Ejecuta la funcion all para ver si todos los elementos son cero\n",
    "        if(not (prod == 0).all()):\n",
    "            if(haySolapeHoras(horario_actual.iloc[i],materia)):\n",
    "                return False\n",
    "    return True"
   ]
  },
  {
   "attachments": {},
   "cell_type": "markdown",
   "id": "0e50ec52-83d2-46ae-86fa-667ced7cb5f1",
   "metadata": {},
   "source": [
    "# Get dummies de los días"
   ]
  },
  {
   "cell_type": "code",
   "execution_count": 101,
   "id": "74afd83c",
   "metadata": {},
   "outputs": [],
   "source": [
    "#Crea el encabezado de los dummy values de los días (en orden)\n",
    "orden = ['Lun', 'Mar', 'Mie', 'Jue', 'Vie', 'Sab'] \n",
    "\n",
    "#Obtiene los dummy values directo del df\n",
    "dummy_dias = pd.Series(df.Días).str.get_dummies(sep=', ')\n",
    "\n",
    "# Reordena y añade los valores de las variables ficticias a la serie \"dias\" y cambia los NaN por 0\n",
    "dummy_dias = dummy_dias.reindex(orden, axis=1).fillna(0, downcast='int64')\n",
    "\n",
    "#Añade este nuevo df al df original\n",
    "df = df.assign(**dummy_dias)"
   ]
  },
  {
   "attachments": {},
   "cell_type": "markdown",
   "id": "902c3227-6325-4b3e-a7eb-cab65ca16ab6",
   "metadata": {},
   "source": [
    "# Get dummies de las horas"
   ]
  },
  {
   "cell_type": "code",
   "execution_count": 102,
   "id": "c22ea7d5-d514-4a83-8514-9c09eeb4578f",
   "metadata": {},
   "outputs": [],
   "source": [
    "#Crea una series de las horas que se imparte esa materia\n",
    "horas_sep = df.Horario.str.split(\" a \")\n",
    "\n",
    "#Crea un diccionario con la series anterior, la clave es el índice de la serie y el valor la tupla de horas\n",
    "diccionario = dict(zip(horas_sep.index, horas_sep.values))\n",
    "\n",
    "#A partir de este diccionario, crea un dataframe llamado horas y nombra sus columnas\n",
    "horas = pd.DataFrame.from_dict(diccionario).transpose()\n",
    "horas.columns = ['Inicio','Fin']\n",
    "\n",
    "#Une las horas al dataframe original\n",
    "df = df.assign(**horas)\n"
   ]
  },
  {
   "cell_type": "code",
   "execution_count": 103,
   "id": "e0c281f2-8875-4ce1-bf0f-507b2f7fdaaf",
   "metadata": {},
   "outputs": [],
   "source": [
    "#Genera una series que contiene las horas y los minutos como tupla\n",
    "hrs_y_min = df.Inicio.str.split(\":\")\n",
    "\n",
    "#Obtiene la hora de inicio en terminos de minutos y crea una nueva columna en el df\n",
    "minutos = hrs_y_min.str[0].astype(int)*60 +  hrs_y_min.str[1].astype(int)\n",
    "\n",
    "#Une la variable minutos como inicio\n",
    "df = df.assign(Inicio_min = minutos)\n",
    "\n",
    "#obtiene la hora final en terminos de minutos y crea una nueva columna en el df\n",
    "hrs_y_min = df.Fin.str.split(\":\")\n",
    "minutos = hrs_y_min.str[0].astype(int)*60 +  hrs_y_min.str[1].astype(int)\n",
    "\n",
    "#Une la variable miniutos como fin\n",
    "df = df.assign(Fin_min = minutos)\n",
    "\n"
   ]
  },
  {
   "cell_type": "code",
   "execution_count": 104,
   "id": "4038cd9d",
   "metadata": {},
   "outputs": [],
   "source": [
    "\n",
    "#Calcula la duración de cada clase en horas\n",
    "duracion = df.Fin_min - df.Inicio_min\n",
    "df = df.assign(Duracion = duracion/60)\n"
   ]
  },
  {
   "cell_type": "code",
   "execution_count": 105,
   "id": "3ba6fdca",
   "metadata": {},
   "outputs": [
    {
     "data": {
      "text/plain": [
       "'TO DO:\\n- Generar un código que se ejecute en paralelo \\n- Generar dos ramas de horarios en paralelo \\n- Extender hasta la mayor cantidad de ramas posibles\\n\\n'"
      ]
     },
     "execution_count": 105,
     "metadata": {},
     "output_type": "execute_result"
    }
   ],
   "source": [
    "\"\"\"TO DO:\n",
    "- Generar un código que se ejecute en paralelo \n",
    "- Generar dos ramas de horarios en paralelo \n",
    "- Extender hasta la mayor cantidad de ramas posibles\n",
    "\n",
    "\"\"\""
   ]
  },
  {
   "cell_type": "code",
   "execution_count": 106,
   "id": "d95908ca",
   "metadata": {},
   "outputs": [],
   "source": [
    "def combinarMaterias(horario,indice_actual):\n",
    "    \"\"\"\n",
    "    Es una función recursiva que toma los parámetros para ir concatenando un horario\n",
    "    Parameters\n",
    "    ------------\n",
    "        horario: dataFrame\n",
    "            El horario que se va formando\n",
    "        indice_actual: int\n",
    "            El indice del renglón del df que se concatena\n",
    "    \n",
    "    \"\"\"\n",
    "    #TODO: Implementar el avance por materias y no por índice\n",
    "    if indice_actual < len(df):\n",
    "        #Concatena el horario con la fila con el índice 'indice_actual' \n",
    "        \n",
    "        new_row = df.copy()[df.index == indice_actual]\n",
    "        horario = pd.concat([horario, new_row])\n",
    "        #print(horario['Nombre'])\n",
    "        siguiente = indice_actual + 1\n",
    "        #El programa va a corroborar si las siguientes filas son compatibles\n",
    "        for i in range(siguiente,len(df)):\n",
    "            clv_materia_sig = df.iloc[i]['Clave']\n",
    "            if ((horario['Clave']==clv_materia_sig).any()):\n",
    "                \"\"\"\n",
    "                TODO:\n",
    "                Implememtar la verificación con materias asimétricas\n",
    "                \n",
    "                \"\"\"\n",
    "                continue\n",
    "            elif noHaySolape(horario,df.iloc[i]):\n",
    "                combinarMaterias(horario,i) #Al ser recursiva, va concatenando las filas del excel que no se solapen y sean diferentes materias\n",
    "        \n",
    "    if(len(horario.Clave.unique()) == materias): #Si ya se tienen todas las materias \n",
    "        lista_horarios.append(horario)\n",
    "        \n",
    "       "
   ]
  },
  {
   "cell_type": "code",
   "execution_count": 107,
   "id": "e1a73d78",
   "metadata": {},
   "outputs": [],
   "source": [
    "def procesar_datos(args):\n",
    "    #print(\"Se está procesando\")\n",
    "    horario, indice, = args\n",
    "    combinarMaterias(horario, indice)"
   ]
  },
  {
   "cell_type": "code",
   "execution_count": 108,
   "id": "ec517ead-e843-47e5-a680-41370455266e",
   "metadata": {},
   "outputs": [],
   "source": [
    "# \"\"\"TODO:\n",
    "# -Generar horarios de forma paralela\n",
    "\n",
    "# \"\"\"\n",
    "\n",
    "# def generarHorarios():\n",
    "#     \"\"\"\n",
    "#     Genera los horarios, realiza un arbol de posibilidades por cada opcion de la primer materia\n",
    "#     \"\"\"\n",
    "#     n=0\n",
    "#     #Realiza este proceso mientras que se trate de la misma materia, el dataframe debe estar ordenado por clave\n",
    "#     while(df.iloc[n].Clave == df.Clave.unique()[0]): \n",
    "#         horario = pd.DataFrame(columns = df.columns) #crea un df con las mismas columnas para ir armando el horario\n",
    "#         combinarMaterias(horario,n)\n",
    "#         n = n+1\n"
   ]
  },
  {
   "cell_type": "code",
   "execution_count": 109,
   "id": "70de8c73",
   "metadata": {},
   "outputs": [],
   "source": [
    "def generarHorarios():\n",
    "\n",
    "        indices =  df.loc[df['Clave']==df.iloc[0]['Clave']].index\n",
    "        horarios = [None]*len(indices)\n",
    "\n",
    "        pool = Pool(len(indices)) \n",
    "        \n",
    "        print(\"Procesos:\" + str(len(indices)))\n",
    "\n",
    "        pool.map(procesar_datos, zip(horarios,indices))\n",
    "        pool.close()\n",
    "        pool.join()"
   ]
  },
  {
   "cell_type": "code",
   "execution_count": 110,
   "id": "3515780f",
   "metadata": {},
   "outputs": [],
   "source": [
    "def includes(horario,materia):\n",
    "    for i in range(0,len(horario)): #Checa con todas las materias del horario\n",
    "        if (materia.Gpo == horario.iloc[i].Gpo and materia.Clave == horario.iloc[i].Clave):\n",
    "            return True\n",
    "    return False"
   ]
  },
  {
   "cell_type": "code",
   "execution_count": 111,
   "id": "18bcb017-a703-40fb-b146-044b56a1989a",
   "metadata": {},
   "outputs": [],
   "source": [
    "def plotMateria(df,gnt):\n",
    "    import random\n",
    "    R = random.uniform(0.3,0.75)\n",
    "    G = random.uniform(0, 0.1)\n",
    "    B = random.uniform(0.6, 1)\n",
    "    \n",
    "    i = 0\n",
    "    hora = (df.Inicio_min/60)\n",
    "    duracion = df.Duracion\n",
    "    \n",
    "    for cat in df.loc[orden]: #Lo que hace es particionar el df a los días de la semana\n",
    "        if cat == 1:\n",
    "            gnt.broken_barh([(i,1)], (hora, duracion) ,facecolors = (R, G, B))\n",
    "            nombre_materia = df.Nombre[:10]                                                     #Corta el texto para que quepa en el cuadro\n",
    "            nombre_profe = df.Profesor.split(\" \")\n",
    "            nombre_pila = nombre_profe[1]\n",
    "            nombre_pila = nombre_pila[:5]\n",
    "            apellido = nombre_profe[-2]\n",
    "            #nombre_pila = df.Profesor[:7]\n",
    "            inicial = apellido [:1]\n",
    "            nombre = nombre_materia + \"\\n\" + str(df.Gpo) + \" \" + nombre_pila  + \" \" + inicial                                    \n",
    "            gnt.text(i+0.1,hora+1.5,nombre,color=\"white\",fontweight = \"bold\",fontsize = 8) #x,y,texto,color,grosor y tamaño\n",
    "        i = i+1\n"
   ]
  },
  {
   "cell_type": "code",
   "execution_count": 112,
   "id": "41ffd7a2-9492-4b68-a73c-156e85e01112",
   "metadata": {},
   "outputs": [],
   "source": [
    "def plotHorario(horario, numero):\n",
    "    import matplotlib.pyplot as plt\n",
    "    fig, gnt = plt.subplots()\n",
    "    gnt.set_ylim(6,23 )\n",
    "    gnt.set_xlim(0,6)\n",
    "    gnt.set_xlabel('Día')\n",
    "    gnt.set_ylabel('Hora')\n",
    "    gnt.set_facecolor('white')\n",
    "    #horas = ['7','8','9','10','11','12','13','14','15','16','17','18','19','20','21','22']\n",
    "    dias = ['Lunes','Martes','Miércoles','Jueves','Viernes','Sábado']\n",
    "    plt.gca().invert_yaxis()\n",
    "    gnt.set_yticks(np.arange(7, 23,1))\n",
    "    gnt.set_xticks(np.arange(0,6,1))\n",
    "    gnt.set_xticklabels(dias,ha=\"left\")\n",
    "    gnt.grid(True)\n",
    "\n",
    "    for i in range(0,len(horario)):\n",
    "        plotMateria(horario.iloc[i],gnt)\n",
    "\n",
    "    plt.savefig(\"Horarios/opción\" + str(numero) + \".jpg\",dpi = 250)\n",
    "    plt.close()"
   ]
  },
  {
   "cell_type": "code",
   "execution_count": 113,
   "id": "261a2aeb",
   "metadata": {},
   "outputs": [],
   "source": [
    "def clearCarpeta():\n",
    "    import os, shutil\n",
    "    folder = 'Horarios/'\n",
    "    for filename in os.listdir(folder):\n",
    "        file_path = os.path.join(folder, filename)\n",
    "        try:\n",
    "            if os.path.isfile(file_path) or os.path.islink(file_path):\n",
    "                os.unlink(file_path)\n",
    "            elif os.path.isdir(file_path):\n",
    "                shutil.rmtree(file_path)\n",
    "        except Exception as e:\n",
    "            print('No fue posible borrar la carpeta %s. Excepción: %s' % (file_path, e))\n",
    "    "
   ]
  },
  {
   "cell_type": "code",
   "execution_count": 114,
   "id": "9c47d16b-489e-48a6-a6e1-7059361867ef",
   "metadata": {},
   "outputs": [],
   "source": [
    "def imprimirHorarios():\n",
    "    clearCarpeta()\n",
    "    if len(lista_horarios) == 0:\n",
    "        print(\"No se puede generar ningún horario con las materias ingresadas.\")\n",
    "        return 0\n",
    "    n=1\n",
    "    for horario in lista_horarios:\n",
    "        plotHorario(horario,n)\n",
    "        #print(horario.iloc[:,0:8].drop(['Tipo','Cupo'],axis=1))\n",
    "        horario.drop(horario.tail(1).index,inplace=True)\n",
    "        n+=1\n",
    "    "
   ]
  },
  {
   "cell_type": "code",
   "execution_count": 115,
   "id": "350d1301-b53d-4a31-9619-45f3ce0b9a8c",
   "metadata": {},
   "outputs": [
    {
     "name": "stdout",
     "output_type": "stream",
     "text": [
      "Procesos:8\n",
      "Horarios generados: 1414\n"
     ]
    }
   ],
   "source": [
    "#Crea un df vacío con las mismas columnas que el df del excel\n",
    "#horario = pd.DataFrame(columns = df.columns)\n",
    "#indices_iniciales = df.loc[df[df]]\n",
    "\n",
    "#generarHorarios(df)\n",
    "if __name__ == '__main__':\n",
    "    generarHorarios()\n",
    "print(\"Horarios generados: \" + str(len(lista_horarios)))\n",
    "#imprimirHorarios()\n"
   ]
  }
 ],
 "metadata": {
  "kernelspec": {
   "display_name": "Python 3",
   "language": "python",
   "name": "python3"
  },
  "language_info": {
   "codemirror_mode": {
    "name": "ipython",
    "version": 3
   },
   "file_extension": ".py",
   "mimetype": "text/x-python",
   "name": "python",
   "nbconvert_exporter": "python",
   "pygments_lexer": "ipython3",
   "version": "3.8.5"
  }
 },
 "nbformat": 4,
 "nbformat_minor": 5
}
